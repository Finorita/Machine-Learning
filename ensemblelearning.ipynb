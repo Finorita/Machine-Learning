{
 "cells": [
  {
   "attachments": {},
   "cell_type": "markdown",
   "metadata": {},
   "source": [
    "# 集成学习\n",
    "吴雅妃 2210515003 房美贤 2210515014\n",
    "\n",
    "### 1. 数据集\n",
    "加载 Iris数据集"
   ]
  },
  {
   "cell_type": "code",
   "execution_count": 1,
   "metadata": {},
   "outputs": [],
   "source": [
    "import warnings\n",
    "warnings.filterwarnings(\"ignore\")\n",
    "from sklearn.datasets import load_iris\n",
    "iris = load_iris()\n",
    "X = iris.data # features\n",
    "y = iris.target # labels"
   ]
  },
  {
   "attachments": {},
   "cell_type": "markdown",
   "metadata": {},
   "source": [
    "### 2. 数据预处理\n",
    "\n",
    "数据清洗、缺失值处理和特征缩放，划分训练测试数据集。"
   ]
  },
  {
   "cell_type": "code",
   "execution_count": 2,
   "metadata": {},
   "outputs": [],
   "source": [
    "from sklearn.model_selection import train_test_split\n",
    "from sklearn.preprocessing import StandardScaler\n",
    "X_train, X_test, y_train, y_test = train_test_split(X, y, test_size=0.3, random_state=42)\n",
    "# 将特征缩放成均值为0，方差为1\n",
    "scaler = StandardScaler()\n",
    "X_train = scaler.fit_transform(X_train)\n",
    "X_test = scaler.transform(X_test)"
   ]
  },
  {
   "attachments": {},
   "cell_type": "markdown",
   "metadata": {},
   "source": [
    "### 3. 分类\n",
    "分别使用 **lr** 和 **svm** 进行分类"
   ]
  },
  {
   "cell_type": "code",
   "execution_count": 3,
   "metadata": {},
   "outputs": [
    {
     "name": "stdout",
     "output_type": "stream",
     "text": [
      "y_pred_lr: [1 0 2 1 1 0 1 2 1 1 2 0 0 0 0 1 2 1 1 2 0 2 0 2 2 2 2 2 0 0 0 0 1 0 0 2 1\n",
      " 0 0 0 2 1 1 0 0]\n",
      "y_pred_svm: [1 0 2 1 1 0 1 2 1 1 2 0 0 0 0 1 2 1 1 2 0 2 0 2 2 2 2 2 0 0 0 0 1 0 0 2 1\n",
      " 0 0 0 2 1 1 0 0]\n",
      "acc_lr: 1.0\n",
      "acc_svm: 1.0\n"
     ]
    }
   ],
   "source": [
    "from sklearn.linear_model import LogisticRegression\n",
    "from sklearn.svm import SVC\n",
    "lr = LogisticRegression()\n",
    "lr.fit(X_train, y_train)\n",
    "svm = SVC()\n",
    "svm.fit(X_train, y_train)\n",
    "y_pred_lr = lr.predict(X_test)\n",
    "y_pred_svm = svm.predict(X_test)\n",
    "print('y_pred_lr:',y_pred_lr)\n",
    "print('y_pred_svm:',y_pred_svm)\n",
    "from sklearn.metrics import accuracy_score\n",
    "acc_lr=accuracy_score(y_test, y_pred_lr)\n",
    "acc_svm=accuracy_score(y_test, y_pred_svm)\n",
    "print('acc_lr:',acc_lr)\n",
    "print('acc_svm:',acc_svm)\n"
   ]
  },
  {
   "attachments": {},
   "cell_type": "markdown",
   "metadata": {},
   "source": [
    "### 4. Bagging\n",
    "使用决策树作为基学习器，并给出在包外估计下的性能指标。"
   ]
  },
  {
   "cell_type": "code",
   "execution_count": 4,
   "metadata": {},
   "outputs": [
    {
     "name": "stdout",
     "output_type": "stream",
     "text": [
      "包外得分: 0.9333333333333333\n",
      "测试集的集成性能指标:\n",
      "Accuracy: 1.0\n",
      "Precision: 1.0\n",
      "Recall: 1.0\n",
      "F1-score: 1.0\n"
     ]
    }
   ],
   "source": [
    "from sklearn.tree import DecisionTreeClassifier\n",
    "dt = DecisionTreeClassifier()\n",
    "from sklearn.ensemble import BaggingClassifier\n",
    "from sklearn.metrics import precision_score, recall_score, f1_score\n",
    "# 使用带有10棵决策树的集成学习器\n",
    "bag = BaggingClassifier(dt, n_estimators=10, oob_score=True)\n",
    "bag.fit(X_train, y_train)\n",
    "# 获得包外估计得分\n",
    "oob_score = bag.oob_score_\n",
    "print(f\"包外得分: {oob_score}\")\n",
    "y_pred_bag = bag.predict(X_test)\n",
    "# 在测试集中设置性能指标\n",
    "acc_bag = accuracy_score(y_test, y_pred_bag)\n",
    "pre_bag = precision_score(y_test, y_pred_bag, average='macro')\n",
    "rec_bag = recall_score(y_test, y_pred_bag, average='macro')\n",
    "f1_bag = f1_score(y_test, y_pred_bag, average='macro')\n",
    "print(f\"测试集的集成性能指标:\")\n",
    "print(f\"Accuracy: {acc_bag}\")\n",
    "print(f\"Precision: {pre_bag}\")\n",
    "print(f\"Recall: {rec_bag}\")\n",
    "print(f\"F1-score: {f1_bag}\")\n"
   ]
  },
  {
   "attachments": {},
   "cell_type": "markdown",
   "metadata": {},
   "source": [
    "### 5. Boosting\n",
    "利用sklearn中AdaBoost与GBDT实现分类。"
   ]
  },
  {
   "cell_type": "code",
   "execution_count": 5,
   "metadata": {},
   "outputs": [
    {
     "name": "stdout",
     "output_type": "stream",
     "text": [
      "测试集的AdaBoost集成性能指标:\n",
      "Accuracy: 1.0\n",
      "Precision: 1.0\n",
      "Recall: 1.0\n",
      "F1-score: 1.0\n",
      "测试集的GBDT集成性能指标:\n",
      "Accuracy: 1.0\n",
      "Precision: 1.0\n",
      "Recall: 1.0\n",
      "F1-score: 1.0\n"
     ]
    }
   ],
   "source": [
    "dt = DecisionTreeClassifier()\n",
    "from sklearn.ensemble import AdaBoostClassifier\n",
    "from sklearn.ensemble import GradientBoostingClassifier\n",
    "# 集成十颗决策树的AdaBoost算法\n",
    "ada = AdaBoostClassifier(dt, n_estimators=10)\n",
    "ada.fit(X_train, y_train)\n",
    "y_pred_ada = ada.predict(X_test)\n",
    "acc_ada = accuracy_score(y_test, y_pred_ada)\n",
    "pre_ada = precision_score(y_test, y_pred_ada, average='macro')\n",
    "rec_ada = recall_score(y_test, y_pred_ada, average='macro')\n",
    "f1_ada = f1_score(y_test, y_pred_ada, average='macro')\n",
    "print(f\"测试集的AdaBoost集成性能指标:\")\n",
    "print(f\"Accuracy: {acc_ada}\")\n",
    "print(f\"Precision: {pre_ada}\")\n",
    "print(f\"Recall: {rec_ada}\")\n",
    "print(f\"F1-score: {f1_ada}\")\n",
    "\n",
    "# 集成十颗决策树的GBDT算法\n",
    "gbdt = GradientBoostingClassifier(n_estimators=10)\n",
    "gbdt.fit(X_train, y_train)\n",
    "y_pred_gbdt = gbdt.predict(X_test)\n",
    "acc_gbdt = accuracy_score(y_test, y_pred_gbdt)\n",
    "pre_gbdt = precision_score(y_test, y_pred_gbdt, average='macro')\n",
    "rec_gbdt = recall_score(y_test, y_pred_gbdt, average='macro')\n",
    "f1_gbdt = f1_score(y_test, y_pred_gbdt, average='macro')\n",
    "print(f\"测试集的GBDT集成性能指标:\")\n",
    "print(f\"Accuracy: {acc_gbdt}\")\n",
    "print(f\"Precision: {pre_gbdt}\")\n",
    "print(f\"Recall: {rec_gbdt}\")\n",
    "print(f\"F1-score: {f1_gbdt}\")"
   ]
  },
  {
   "attachments": {},
   "cell_type": "markdown",
   "metadata": {},
   "source": [
    "### 6.随机森林：\n"
   ]
  },
  {
   "cell_type": "code",
   "execution_count": 20,
   "metadata": {},
   "outputs": [
    {
     "name": "stdout",
     "output_type": "stream",
     "text": [
      "测试集的RandomG集成性能指标(n_estimators=10):\n",
      "Accuracy: 1.0\n",
      "Precision: 1.0\n",
      "Recall: 1.0\n",
      "F1-score: 1.0\n",
      "测试集的RandomG集成性能指标(n_estimators=20):\n",
      "Accuracy: 1.0\n",
      "Precision: 1.0\n",
      "Recall: 1.0\n",
      "F1-score: 1.0\n",
      "测试集的RandomG集成性能指标(n_estimators=10 and sqrt features for each tree ):\n",
      "Accuracy: 1.0\n",
      "Precision: 1.0\n",
      "Recall: 1.0\n",
      "F1-score: 1.0\n"
     ]
    }
   ],
   "source": [
    "\n",
    "from sklearn.ensemble import RandomForestClassifier\n",
    "# 使用集成10棵树和默认参数的随机森林\n",
    "rf_default = RandomForestClassifier(n_estimators=10)\n",
    "rf_default.fit(X_train,y_train)\n",
    "y_pred_rf_default = rf_default.predict(X_test)\n",
    "acc_rf_default = accuracy_score(y_test,y_pred_rf_default)\n",
    "pre_rf_default = precision_score(y_test,y_pred_rf_default ,average='macro')\n",
    "rec_rf_default= recall_score(y_test,y_pred_rf_default ,average='macro')\n",
    "f1_rf_default= f1_score(y_test,y_pred_rf_default ,average='macro')\n",
    "print(f\"测试集的RandomG集成性能指标(n_estimators=10):\")\n",
    "print(f\"Accuracy: {acc_rf_default}\")\n",
    "print(f\"Precision: {pre_rf_default}\")\n",
    "print(f\"Recall: {rec_rf_default}\")\n",
    "print(f\"F1-score: {f1_rf_default}\")\n",
    "\n",
    "# 使用集成10棵树和默认参数的随机森林\n",
    "rf_more_trees = RandomForestClassifier(n_estimators=20)\n",
    "rf_more_trees.fit(X_train,y_train)\n",
    "y_pred_rf_more_trees= rf_more_trees.predict(X_test)\n",
    "acc_rf_more_trees= accuracy_score(y_test,y_pred_rf_more_trees )\n",
    "pre_rf_more_trees= precision_score(y_test,y_pred_rf_more_trees ,average='macro')\n",
    "rec_rf_more_trees= recall_score(y_test,y_pred_rf_more_trees ,average='macro')\n",
    "f1_rf_more_trees= f1_score(y_test,y_pred_rf_more_trees ,average='macro')\n",
    "print(f\"测试集的RandomG集成性能指标(n_estimators=20):\")\n",
    "print(f\"Accuracy: {acc_rf_more_trees}\")\n",
    "print(f\"Precision: {pre_rf_more_trees}\")\n",
    "print(f\"Recall: {rec_rf_more_trees}\")\n",
    "print(f\"F1-score: {f1_rf_more_trees}\")\n",
    "# n_estimators=10 and sqrt features for each tree \n",
    "rf_sqrt_features= RandomForestClassifier(n_estimators=10,max_features=\"sqrt\")\n",
    "rf_sqrt_features.fit(X_train,y_train)\n",
    "y_pred_rf_sqrt_features= rf_sqrt_features.predict(X_test)\n",
    "acc_rf_sqrt_features= accuracy_score(y_test,y_pred_rf_sqrt_features )\n",
    "pre_rf_sqrt_features= precision_score(y_test,y_pred_rf_sqrt_features ,average='macro')\n",
    "rec_rf_sqrt_features= recall_score(y_test,y_pred_rf_sqrt_features ,average='macro')\n",
    "f1_rf_sqrt_features= f1_score(y_test,y_pred_rf_sqrt_features ,average='macro')\n",
    "print(f\"测试集的RandomG集成性能指标(n_estimators=10 and sqrt features for each tree ):\")\n",
    "print(f\"Accuracy: {acc_rf_sqrt_features}\")\n",
    "print(f\"Precision: {pre_rf_sqrt_features}\")\n",
    "print(f\"Recall: {rec_rf_sqrt_features}\")\n",
    "print(f\"F1-score: {f1_rf_sqrt_features}\")\n"
   ]
  },
  {
   "attachments": {},
   "cell_type": "markdown",
   "metadata": {},
   "source": [
    "观察上面的性能指标，可见所有算法在这个简单的数据集上，性能都表现完美，根据使用集成10棵树的随机森林和默认参数的随机森林在数据集上的训练观察特征重要性。"
   ]
  },
  {
   "cell_type": "code",
   "execution_count": 23,
   "metadata": {},
   "outputs": [
    {
     "data": {
      "image/png": "[encoded data removed]",
      "text/plain": [
       "<Figure size 640x480 with 1 Axes>"
      ]
     },
     "metadata": {},
     "output_type": "display_data"
    }
   ],
   "source": [
    "# 导入相关库\n",
    "import pandas as pd\n",
    "from sklearn.datasets import load_breast_cancer\n",
    "from matplotlib import pyplot as plt\n",
    "# 转换成DataFrame对象，并指定列名\n",
    "data = pd.DataFrame(X_train, columns=iris.feature_names)\n",
    "target = pd.DataFrame(y_train, columns=['target'])\n",
    "# 获取特征重要性分数\n",
    "feature_importance = pd.DataFrame(data.columns, columns=['feature'])\n",
    "feature_importance['importance'] = rf_default.feature_importances_\n",
    "# 对特征重要性分数进行排序\n",
    "feature_importance.sort_values('importance', ascending=False, inplace=True)\n",
    "# 绘制水平柱状图\n",
    "plt.rcParams['font.sans-serif'] = ['SimHei']\n",
    "plt.barh(feature_importance['feature'], feature_importance['importance'], height=0.7, color ='#008792', edgecolor ='#005344') # 更多颜色可参见颜色大全\n",
    "plt.xlabel('feature importance') # x 轴标签\n",
    "plt.ylabel('features') # y轴标签\n",
    "plt.title('Feature Importances') # 标题\n",
    "for a,b in zip(feature_importance['importance'],feature_importance['feature']): # 添加数字标签\n",
    "    plt.text(a+0.001, b,'%.3f'%float(a)) # a+0.001代表标签位置在柱形图上方0.001处\n",
    "plt.show()"
   ]
  }
 ],
 "metadata": {
  "kernelspec": {
   "display_name": "base",
   "language": "python",
   "name": "python3"
  },
  "language_info": {
   "codemirror_mode": {
    "name": "ipython",
    "version": 3
   },
   "file_extension": ".py",
   "mimetype": "text/x-python",
   "name": "python",
   "nbconvert_exporter": "python",
   "pygments_lexer": "ipython3",
   "version": "3.7.16"
  },
  "orig_nbformat": 4
 },
 "nbformat": 4,
 "nbformat_minor": 2
}
